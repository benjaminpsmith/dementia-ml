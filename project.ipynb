{
 "cells": [
  {
   "cell_type": "code",
   "execution_count": 1,
   "metadata": {},
   "outputs": [
    {
     "name": "stdout",
     "output_type": "stream",
     "text": [
      "Device used: cpu\n"
     ]
    }
   ],
   "source": [
    "import numpy as np\n",
    "import matplotlib.pyplot as plt\n",
    "import pandas as pd\n",
    "\n",
    "from PIL import Image\n",
    "import numpy as np\n",
    "import os\n",
    "\n",
    "import torch\n",
    "import torch.nn as nn\n",
    "import torchvision\n",
    "import torchvision.transforms as transforms\n",
    "import torch.nn.functional as F\n",
    "\n",
    "# Device configuration\n",
    "device = torch.device('cuda' if torch.cuda.is_available() else 'cpu')\n",
    "print(f'Device used: {device.type}')"
   ]
  },
  {
   "cell_type": "markdown",
   "metadata": {},
   "source": [
    "# Hyperparameters for project"
   ]
  },
  {
   "cell_type": "code",
   "execution_count": 2,
   "metadata": {},
   "outputs": [],
   "source": [
    "train_size = 0.9                    # In percent\n",
    "test_size = 1 - train_size          # In percent, calculated dynamically from train_size\n",
    "num_epochs = 4                     # Number of epochs for the training of the nn\n",
    "batch_size = 128                     # Size of batches\n",
    "learning_rate = 0.0001               # Learningrate -> subject to change -> learning rate schedule"
   ]
  },
  {
   "cell_type": "markdown",
   "metadata": {},
   "source": [
    "# Data preprocessing\n"
   ]
  },
  {
   "cell_type": "markdown",
   "metadata": {},
   "source": [
    "## Import the dataset\n",
    "Dataset should be imported as a pytorch dataloader for batch optimization"
   ]
  },
  {
   "cell_type": "code",
   "execution_count": 3,
   "metadata": {},
   "outputs": [
    {
     "name": "stdout",
     "output_type": "stream",
     "text": [
      "(6400, 128, 128, 1)\n"
     ]
    }
   ],
   "source": [
    "# Create an empty array to store the image arrays and class\n",
    "X = []\n",
    "Y = []\n",
    "\n",
    "# Define the folder paths containing the images\n",
    "folder_paths = ['Dataset/Non_Demented/', 'Dataset/Very_Mild_Demented/', 'Dataset/Mild_Demented/', 'Dataset/Moderate_Demented/']\n",
    "classes = [r'Non demented', r'Very mildly demented', r'mild demented', r'moderate demented']\n",
    "\n",
    "# Loop over the images to save them in the list\n",
    "for c, path in enumerate(folder_paths):\n",
    "    items = os.listdir(path)\n",
    "    for picture in items:\n",
    "        file_path = os.path.join(path, picture)\n",
    "        # Open the image and convert it to a NumPy array\n",
    "        img = Image.open(file_path)\n",
    "        array_representation = np.asarray(img)\n",
    "\n",
    "        # Append the NumPy array to the list\n",
    "        X.append(array_representation)\n",
    "        Y.append(c)\n",
    "\n",
    "# Convert the list of image arrays to a NumPy array\n",
    "X = np.array(X)\n",
    "X = X.reshape(len(X), 128, 128, 1)\n",
    "\n",
    "# Dynamically calculate the number of classes in dataset\n",
    "num_classes = len(np.unique(Y))\n",
    "\n",
    "# Shape of the array\n",
    "print(np.shape(X))"
   ]
  },
  {
   "cell_type": "code",
   "execution_count": 4,
   "metadata": {},
   "outputs": [],
   "source": [
    "X = X / 256"
   ]
  },
  {
   "cell_type": "markdown",
   "metadata": {},
   "source": [
    "### Split into Test/Training sets"
   ]
  },
  {
   "cell_type": "code",
   "execution_count": 5,
   "metadata": {},
   "outputs": [
    {
     "name": "stdout",
     "output_type": "stream",
     "text": [
      "Elements of 0 in X_train: 2592\n",
      "Elements of 1 in X_train: 1814\n",
      "Elements of 2 in X_train: 726\n",
      "Elements of 3 in X_train: 52\n",
      "\n",
      "Elements of 0 in X_test: 320\n",
      "Elements of 1 in X_test: 224\n",
      "Elements of 2 in X_test: 90\n",
      "Elements of 3 in X_test: 6\n",
      "\n",
      "Elements of 0 in X_val: 288\n",
      "Elements of 1 in X_val: 202\n",
      "Elements of 2 in X_val: 80\n",
      "Elements of 3 in X_val: 6\n"
     ]
    }
   ],
   "source": [
    "from sklearn.model_selection import train_test_split\n",
    "\n",
    "X_train, X_test, Y_train, Y_test = train_test_split(X, Y, test_size = 1 - train_size, stratify=Y, random_state=42)\n",
    "X_train, X_val, Y_train, Y_val = train_test_split(X_train, Y_train, test_size = 1 - train_size, stratify=Y_train, random_state=42)\n",
    "\n",
    "for i in np.unique(Y_train):\n",
    "    print(f\"Elements of {i} in X_train: {np.count_nonzero(Y_train == i)}\")\n",
    "print()\n",
    "for i in np.unique(Y_test):\n",
    "    print(f\"Elements of {i} in X_test: {np.count_nonzero(Y_test == i)}\")\n",
    "print()\n",
    "for i in np.unique(Y_val):\n",
    "    print(f\"Elements of {i} in X_val: {np.count_nonzero(Y_val == i)}\")"
   ]
  },
  {
   "cell_type": "code",
   "execution_count": 6,
   "metadata": {},
   "outputs": [],
   "source": [
    "from torch.utils.data import DataLoader, Dataset\n",
    "from torchvision import transforms\n",
    "\n",
    "# Assuming you have a class named MyDataset for your dataset\n",
    "class MyDataset(Dataset):\n",
    "    def __init__(self, X, Y, transform=None):\n",
    "        self.X = X\n",
    "        self.Y = Y\n",
    "        self.transform = transform\n",
    "\n",
    "    def __len__(self):\n",
    "        return len(self.X)\n",
    "\n",
    "    def __getitem__(self, idx):\n",
    "        img = self.X[idx]\n",
    "        label = self.Y[idx]\n",
    "\n",
    "        if self.transform:\n",
    "            img = self.transform(img)\n",
    "\n",
    "        return img, label\n",
    "\n",
    "# Define transformations, you can adjust these based on your needs\n",
    "transform = transforms.Compose([\n",
    "    transforms.ToTensor(),  # Converts to PyTorch tensor\n",
    "])\n",
    "\n",
    "# Create an instance of your dataset\n",
    "dataset_train = MyDataset(X=X_train, Y=Y_train, transform=transform)\n",
    "dataset_val = MyDataset(X=X_val, Y=Y_val, transform=transform)\n",
    "dataset_test = MyDataset(X=X_test, Y=Y_test, transform=transform)\n",
    "\n",
    "# Define DataLoader for training, validation and test sets\n",
    "train_loader = DataLoader(dataset_train, batch_size=batch_size, shuffle=True)\n",
    "validation_loader = DataLoader(dataset_val, batch_size=batch_size, shuffle=False)\n",
    "test_loader = DataLoader(dataset_test, batch_size=batch_size, shuffle=False)"
   ]
  },
  {
   "cell_type": "code",
   "execution_count": 7,
   "metadata": {},
   "outputs": [],
   "source": [
    "# from torch.utils.data import Subset\n",
    "\n",
    "# train_dataset, test_dataset = torch.utils.data.random_split(\n",
    "#         dataset, [int(train_size * len(dataset)), len(dataset) - int(train_size * len(dataset))],\n",
    "#     )\n",
    "\n",
    "# train_size_total = int(train_size * len(train_dataset))\n",
    "\n",
    "# # Create indices for the entire dataset\n",
    "# indices = list(range(len(train_dataset)))\n",
    "# np.random.shuffle(indices)\n",
    "\n",
    "# # Use the indices for the random_split\n",
    "# train_indices, val_indices = indices[:train_size_total], indices[train_size_total:]\n",
    "\n",
    "# validation_dataset = Subset(train_dataset, val_indices)\n",
    "# train_dataset = Subset(train_dataset, train_indices)\n",
    "\n",
    "# # Define DataLoader for training, validation and test sets\n",
    "# train_loader = DataLoader(train_dataset, batch_size=batch_size, shuffle=True)\n",
    "# # validation_loader = DataLoader(validation_dataset, batch_size=batch_size, shuffle=False)\n",
    "# test_loader = DataLoader(test_dataset, batch_size=batch_size, shuffle=False)"
   ]
  },
  {
   "cell_type": "code",
   "execution_count": 8,
   "metadata": {},
   "outputs": [],
   "source": [
    "# # Get the indices of items in the train_dataset\n",
    "# _indices = train_dataset.indices\n",
    "\n",
    "# # Extract the targets (labels) for the corresponding indices as a NumPy array\n",
    "# _targets_np = np.array([dataset.Y[idx] for idx in _indices])\n",
    "\n",
    "# # Count the occurrences of each class in the train dataset using numpy.unique\n",
    "# class_labels, class_counts = np.unique(_targets_np, return_counts=True)\n",
    "\n",
    "# # Display the number of items in each class\n",
    "# for class_label, count in zip(class_labels, class_counts):\n",
    "#     print(f\"Class {class_label}: {count} items\")"
   ]
  },
  {
   "cell_type": "code",
   "execution_count": 9,
   "metadata": {},
   "outputs": [],
   "source": [
    "# from torch.utils.data import SubsetRandomSampler\n",
    "# from sklearn.model_selection import train_test_split\n",
    "\n",
    "# selected_labels = [Y[i] for i in train_dataset.indices]\n",
    "\n",
    "# # Use sklearn's train_test_split to perform a stratified split\n",
    "# train_indices, val_indices = train_test_split(\n",
    "#     range(len(train_dataset)),\n",
    "#     test_size=1 - train_size,\n",
    "#     stratify=selected_labels,\n",
    "#     random_state=42,\n",
    "# )\n",
    "\n",
    "# # Define the samplers for DataLoader\n",
    "# train_sampler = SubsetRandomSampler(train_indices)\n",
    "# val_sampler = SubsetRandomSampler(val_indices)\n",
    "\n",
    "# # Create DataLoader instances using the samplers\n",
    "# train_loader = DataLoader(dataset, batch_size=batch_size, sampler=train_sampler)\n",
    "# val_loader = DataLoader(dataset, batch_size=batch_size, sampler= val_sampler)"
   ]
  },
  {
   "cell_type": "code",
   "execution_count": 10,
   "metadata": {},
   "outputs": [],
   "source": [
    "# # Get the indices of items in the train_dataset\n",
    "# _indices = train_sampler.indices\n",
    "\n",
    "# # Extract the targets (labels) for the corresponding indices as a NumPy array\n",
    "# _targets_np = np.array([dataset.Y[idx] for idx in _indices])\n",
    "\n",
    "# # Count the occurrences of each class in the train dataset using numpy.unique\n",
    "# class_labels, class_counts = np.unique(_targets_np, return_counts=True)\n",
    "\n",
    "# # Display the number of items in each class\n",
    "# for class_label, count in zip(class_labels, class_counts):\n",
    "#     print(f\"Class {class_label}: {count} items\")"
   ]
  },
  {
   "cell_type": "markdown",
   "metadata": {},
   "source": [
    "### Show example of dataset"
   ]
  },
  {
   "cell_type": "code",
   "execution_count": 11,
   "metadata": {},
   "outputs": [
    {
     "data": {
      "image/png": "[encoded data removed]",
      "text/plain": [
       "<Figure size 640x480 with 1 Axes>"
      ]
     },
     "metadata": {},
     "output_type": "display_data"
    }
   ],
   "source": [
    "index_to_display = 0  # Image to show in dataset\n",
    "\n",
    "# Get the image array and corresponding class\n",
    "selected_image = X[index_to_display]\n",
    "selected_class = classes[Y[index_to_display]]\n",
    "\n",
    "# Display the image\n",
    "plt.imshow(selected_image, cmap='gray')\n",
    "plt.title(f'Class: {selected_class}')\n",
    "plt.axis('off')  # Turn off axis labels\n",
    "plt.show()"
   ]
  },
  {
   "cell_type": "markdown",
   "metadata": {},
   "source": [
    "## Data augmentation"
   ]
  },
  {
   "cell_type": "markdown",
   "metadata": {},
   "source": [
    "## Data normalization"
   ]
  },
  {
   "cell_type": "markdown",
   "metadata": {},
   "source": [
    "# Architecture of the network"
   ]
  },
  {
   "cell_type": "code",
   "execution_count": 12,
   "metadata": {},
   "outputs": [
    {
     "name": "stdout",
     "output_type": "stream",
     "text": [
      "Epoch [1/4], Step [10/41], Loss: 1.3613, training\n",
      "Epoch [1/4], Step [20/41], Loss: 1.3469, training\n",
      "Epoch [1/4], Step [30/41], Loss: 1.3447, training\n",
      "Epoch [1/4], Step [40/41], Loss: 1.3554, training\n",
      "Epoch [1/4], Step [41/41], Loss: 1.3403, training\n",
      "Epoch [2/4], Step [10/41], Loss: 1.3457, training\n",
      "Epoch [2/4], Step [20/41], Loss: 1.3507, training\n",
      "Epoch [2/4], Step [30/41], Loss: 1.3678, training\n",
      "Epoch [2/4], Step [40/41], Loss: 1.3384, training\n",
      "Epoch [2/4], Step [41/41], Loss: 1.3459, training\n",
      "Epoch [3/4], Step [10/41], Loss: 1.3530, training\n",
      "Epoch [3/4], Step [20/41], Loss: 1.3480, training\n",
      "Epoch [3/4], Step [30/41], Loss: 1.3274, training\n",
      "Epoch [3/4], Step [40/41], Loss: 1.3380, training\n",
      "Epoch [3/4], Step [41/41], Loss: 1.3605, training\n",
      "Epoch [4/4], Step [10/41], Loss: 1.3427, training\n",
      "Epoch [4/4], Step [20/41], Loss: 1.3524, training\n",
      "Epoch [4/4], Step [30/41], Loss: 1.3498, training\n",
      "Epoch [4/4], Step [40/41], Loss: 1.3589, training\n",
      "Epoch [4/4], Step [41/41], Loss: 1.3420, training\n",
      "Finished Training\n",
      "Accuracy of the network: 50.0 %\n",
      "Accuracy of Non demented: 100.0 %\n",
      "Accuracy of Very mildly demented: 0.0 %\n",
      "Accuracy of mild demented: 0.0 %\n",
      "Accuracy of moderate demented: 0.0 %\n",
      "\n",
      "Accuracy of the network in eval mode: 50.0 %\n",
      "Accuracy of Non demented: 100.0 %\n",
      "Accuracy of Very mildly demented: 0.0 %\n",
      "Accuracy of mild demented: 0.0 %\n",
      "Accuracy of moderate demented: 0.0 %\n"
     ]
    }
   ],
   "source": [
    "class ConvNet(nn.Module):\n",
    "    def __init__(self, in_channels, nb_filters, kernel_size_conv, fc_size, fc_out_features, pooling_size = [1, 1], activation_function = F.relu, dropout_rate_conv = 0.2, dropout_rate_fc = 0.2):\n",
    "        '''\n",
    "        in_channels         : The dimension of colors (grayscale = 1, rbg = 3)\n",
    "        nb_filters          : Number of filters applied to first layer\n",
    "        kernel_size_conv    : Size of the convolution of the first layer\n",
    "        fc_size             : Size of the first fully connected layer (output)\n",
    "        fc_out_features     : Number of classes of the dataset\n",
    "        pooling_size        : Pooling size, default set to (1,1)\n",
    "        activation_function : Set the activation function for the layers, default is ReLU\n",
    "        '''\n",
    "\n",
    "        # Define layers in the network\n",
    "        super(ConvNet, self).__init__()\n",
    "        self.conv1 = nn.Conv2d(in_channels, nb_filters, kernel_size_conv)\n",
    "        self.dropout1 = nn.Dropout2d(p=dropout_rate_conv)\n",
    "        self.conv2 = nn.Conv2d(nb_filters, nb_filters, int(kernel_size_conv / 2))\n",
    "        self.dropout2 = nn.Dropout2d(p=dropout_rate_conv)\n",
    "        self.pool = nn.MaxPool2d(pooling_size[0], pooling_size[1])\n",
    "\n",
    "        # Initialize these sizes for the fully connected layer and calculate this dynamically later in the first forward pass\n",
    "        self.input_size = None                  # Will later be the size of the image input\n",
    "        self.fc_size_input = None               # Will later be the size of the output of the last cnn layer (after pooling)\n",
    "\n",
    "        # Dummy values for Linear layers; will be updated in the first forward pass\n",
    "        self.fc1 = nn.Linear(1, 1)\n",
    "        self.fc2 = nn.Linear(1, 1)\n",
    "        self.fc3 = nn.Linear(1, 1)\n",
    "\n",
    "        # Dropout for fully connected layers\n",
    "        self.dropout_fc1 = nn.Dropout(p=dropout_rate_fc)\n",
    "        self.dropout_fc2 = nn.Dropout(p=dropout_rate_fc)\n",
    "\n",
    "        # Set some variables for the forward pass\n",
    "        self.activation_function = activation_function\n",
    "        self.fc_size = fc_size\n",
    "        self.fc_out_features = fc_out_features\n",
    "        self.pooling_size = pooling_size\n",
    "\n",
    "    def forward(self, x):\n",
    "        # Set the input size dynamically during the first forward pass\n",
    "        if self.input_size is None:\n",
    "            self.input_size = x.size(2)\n",
    "            self.fc_size_input = self.calculate_fc_size(self.conv1.out_channels, self.conv1.kernel_size[0])\n",
    "            self.fc1 = nn.Linear(self.fc_size_input, self.fc_size)\n",
    "            self.fc2 = nn.Linear(self.fc_size, int(self.fc_size / 2))\n",
    "            self.fc3 = nn.Linear(int(self.fc_size / 2), self.fc_out_features)\n",
    "\n",
    "        # x = self.pool(self.activation_function(self.conv1(x)))\n",
    "        x = self.pool(self.activation_function(self.dropout1(self.conv1(x))))\n",
    "        # x = self.pool(self.activation_function(self.conv2(x)))\n",
    "        x = self.pool(self.activation_function(self.dropout2(self.conv2(x))))\n",
    "        \n",
    "        x = x.view(-1, self.fc_size_input)\n",
    "        # x = F.relu(self.fc1(x))\n",
    "        x = F.relu(self.dropout_fc1(self.fc1(x)))\n",
    "        # x = F.relu(self.fc2(x))\n",
    "        x = F.relu(self.dropout_fc2(self.fc2(x)))\n",
    "        x = self.fc3(x)\n",
    "        return x\n",
    "\n",
    "    def calculate_fc_size(self, nb_filters, kernel_size_conv):\n",
    "        # Calculate the dynamic input size for fully connected layer\n",
    "        conv_output_size1 = self.calculate_conv_output_size(self.input_size, kernel_size_conv)\n",
    "        conv_output_size2 = self.calculate_conv_output_size(conv_output_size1, int(kernel_size_conv / 2))\n",
    "        pooled_output_size = self.calculate_conv_output_size(conv_output_size2, self.pooling_size[0])\n",
    "        fc_size = nb_filters * pooled_output_size ** 2\n",
    "        return fc_size\n",
    "\n",
    "    def calculate_conv_output_size(self, input_size, kernel_size, padding = 0, stride = 1):\n",
    "        # Calculate the output size of the convolutional layer\n",
    "        return int(np.floor((input_size - kernel_size + 2 * padding) / stride) + 1)\n",
    "\n",
    "\n",
    "model = ConvNet(in_channels=1, nb_filters=6, kernel_size_conv=4, fc_size = 64, fc_out_features=num_classes)\n",
    "model.train()\n",
    "\n",
    "criterion = nn.CrossEntropyLoss()\n",
    "optimizer = torch.optim.Adam(model.parameters(), lr=learning_rate)\n",
    "\n",
    "n_total_steps = train_loader.__len__()\n",
    "for epoch in range(num_epochs):\n",
    "    for i, (images, labels) in enumerate(train_loader):\n",
    "        images = images.float()\n",
    "        images = images.to(device)\n",
    "        labels = labels.to(device)\n",
    "\n",
    "        # Forward pass\n",
    "        outputs = model(images)        \n",
    "        loss = criterion(outputs, labels)\n",
    "\n",
    "        # Backward and optimize\n",
    "        optimizer.zero_grad()\n",
    "        loss.backward()\n",
    "        optimizer.step()\n",
    "\n",
    "        if ((i+1) % (int(n_total_steps / 4)) == 0) or (i+1 == n_total_steps):\n",
    "            print (f'Epoch [{epoch+1}/{num_epochs}], Step [{i+1}/{n_total_steps}], Loss: {loss.item():.4f}, training')\n",
    "\n",
    "print('Finished Training')\n",
    "PATH = './cnn.pth'\n",
    "torch.save(model.state_dict(), PATH)\n",
    "\n",
    "\n",
    "with torch.no_grad():\n",
    "    n_correct = 0\n",
    "    n_samples = 0\n",
    "    n_class_correct = [0 for i in range(num_classes)]\n",
    "    n_class_samples = [0 for i in range(num_classes)]\n",
    "    for images, labels in test_loader:\n",
    "        images = images.float()\n",
    "        images = images.to(device)\n",
    "        labels = labels.to(device)\n",
    "        outputs = model(images)\n",
    "        # max returns (value ,index)\n",
    "        _, predicted = torch.max(outputs, 1)\n",
    "        n_samples += labels.size(0)\n",
    "        n_correct += (predicted == labels).sum().item()\n",
    "        \n",
    "        for i in range(batch_size):\n",
    "            label = labels[i]\n",
    "            pred = predicted[i]\n",
    "            if (label == pred):\n",
    "                n_class_correct[label] += 1\n",
    "            n_class_samples[label] += 1\n",
    "\n",
    "    acc = 100.0 * n_correct / n_samples\n",
    "    print(f'Accuracy of the network: {acc} %')\n",
    "\n",
    "    for i in range(num_classes):\n",
    "        acc = 100.0 * n_class_correct[i] / n_class_samples[i]\n",
    "        print(f'Accuracy of {classes[i]}: {acc} %')\n",
    "\n",
    "print()\n",
    "model.eval()\n",
    "with torch.no_grad():\n",
    "    n_correct = 0\n",
    "    n_samples = 0\n",
    "    n_class_correct = [0 for i in range(num_classes)]\n",
    "    n_class_samples = [0 for i in range(num_classes)]\n",
    "    for images, labels in test_loader:\n",
    "        images = images.float()\n",
    "        images = images.to(device)\n",
    "        labels = labels.to(device)\n",
    "        outputs = model(images)\n",
    "        # max returns (value ,index)\n",
    "        _, predicted = torch.max(outputs, 1)\n",
    "        n_samples += labels.size(0)\n",
    "        n_correct += (predicted == labels).sum().item()\n",
    "        \n",
    "        for i in range(batch_size):\n",
    "            label = labels[i]\n",
    "            pred = predicted[i]\n",
    "            if (label == pred):\n",
    "                n_class_correct[label] += 1\n",
    "            n_class_samples[label] += 1\n",
    "\n",
    "    acc = 100.0 * n_correct / n_samples\n",
    "    print(f'Accuracy of the network in eval mode: {acc} %')\n",
    "\n",
    "    for i in range(num_classes):\n",
    "        acc = 100.0 * n_class_correct[i] / n_class_samples[i]\n",
    "        print(f'Accuracy of {classes[i]}: {acc} %')"
   ]
  }
 ],
 "metadata": {
  "kernelspec": {
   "display_name": "ba-thesis",
   "language": "python",
   "name": "python3"
  },
  "language_info": {
   "codemirror_mode": {
    "name": "ipython",
    "version": 3
   },
   "file_extension": ".py",
   "mimetype": "text/x-python",
   "name": "python",
   "nbconvert_exporter": "python",
   "pygments_lexer": "ipython3",
   "version": "3.8.18"
  }
 },
 "nbformat": 4,
 "nbformat_minor": 2
}
