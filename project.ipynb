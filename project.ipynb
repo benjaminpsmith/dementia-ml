{
 "cells": [
  {
   "cell_type": "code",
   "execution_count": 3,
   "metadata": {},
   "outputs": [],
   "source": [
    "import numpy as np\n",
    "import matplotlib.pyplot as plt\n",
    "import pandas as pd\n",
    "\n",
    "from PIL import Image\n",
    "import numpy as np\n",
    "import os\n",
    "\n",
    "import torch\n",
    "import torchvision\n",
    "import torchvision.transforms as transforms"
   ]
  },
  {
   "cell_type": "code",
   "execution_count": 4,
   "metadata": {},
   "outputs": [
    {
     "name": "stdout",
     "output_type": "stream",
     "text": [
      "(6400, 128, 128)\n"
     ]
    }
   ],
   "source": [
    "# Create an empty array to store the image arrays and class\n",
    "X = []\n",
    "Y = []\n",
    "\n",
    "# Define the folder paths containing the images\n",
    "folder_paths = ['Dataset/Non_Demented/', 'Dataset/Very_Mild_Demented/', 'Dataset/Mild_Demented/', 'Dataset/Moderate_Demented/']\n",
    "classes = [r'Non demented', r'Very mildly demented', r'mild demented', r'moderate demented']\n",
    "\n",
    "# Loop over the images to save them in the list\n",
    "for c, path in enumerate(folder_paths):\n",
    "    items = os.listdir(path)\n",
    "    for picture in items:\n",
    "        file_path = os.path.join(path, picture)\n",
    "        # Open the image and convert it to a NumPy array\n",
    "        img = Image.open(file_path)\n",
    "        array_representation = np.asarray(img)\n",
    "\n",
    "        # Append the NumPy array to the list\n",
    "        X.append(array_representation)\n",
    "        Y.append(c)\n",
    "\n",
    "# Convert the list of image arrays to a NumPy array\n",
    "image_array = np.array(X)\n",
    "\n",
    "# Shape of the array\n",
    "print(image_array.shape)"
   ]
  }
 ],
 "metadata": {
  "kernelspec": {
   "display_name": "ba-thesis",
   "language": "python",
   "name": "python3"
  },
  "language_info": {
   "codemirror_mode": {
    "name": "ipython",
    "version": 3
   },
   "file_extension": ".py",
   "mimetype": "text/x-python",
   "name": "python",
   "nbconvert_exporter": "python",
   "pygments_lexer": "ipython3",
   "version": "3.8.18"
  }
 },
 "nbformat": 4,
 "nbformat_minor": 2
}
