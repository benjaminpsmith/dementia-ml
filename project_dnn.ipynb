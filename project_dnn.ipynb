{
 "cells": [
  {
   "cell_type": "code",
   "execution_count": 1,
   "metadata": {},
   "outputs": [
    {
     "name": "stdout",
     "output_type": "stream",
     "text": [
      "Device used: cpu\n"
     ]
    }
   ],
   "source": [
    "# If external python files are updated\n",
    "%load_ext autoreload\n",
    "%autoreload 2\n",
    "\n",
    "import numpy as np\n",
    "import matplotlib.pyplot as plt\n",
    "import pandas as pd\n",
    "\n",
    "from PIL import Image\n",
    "import numpy as np\n",
    "import os\n",
    "\n",
    "from sklearn.model_selection import train_test_split\n",
    "import torch\n",
    "import torch.nn as nn\n",
    "import torchvision\n",
    "import torchvision.transforms as transforms\n",
    "import torch.nn.functional as F\n",
    "from torch.optim.lr_scheduler import StepLR\n",
    "from sklearn.metrics import accuracy_score\n",
    "\n",
    "import torch.nn.init as init\n",
    "from torch.optim import lr_scheduler\n",
    "\n",
    "import functions\n",
    "from functions import Custom_DNN, EarlyStopper\n",
    "\n",
    "# Device configuration\n",
    "device = torch.device('cuda' if torch.cuda.is_available() else 'cpu')\n",
    "print(f'Device used: {device.type}')"
   ]
  },
  {
   "cell_type": "code",
   "execution_count": 2,
   "metadata": {},
   "outputs": [],
   "source": [
    "# Set seed for reproducibility\n",
    "seed = 42\n",
    "torch.manual_seed(seed)\n",
    "torch.cuda.manual_seed(seed)"
   ]
  },
  {
   "cell_type": "code",
   "execution_count": 3,
   "metadata": {},
   "outputs": [],
   "source": [
    "train_size = 0.75                     # In percent\n",
    "test_size = 1 - train_size           # In percent, calculated dynamically from train_size\n",
    "batch_size = 16                      # Size of batches"
   ]
  },
  {
   "cell_type": "code",
   "execution_count": 8,
   "metadata": {},
   "outputs": [
    {
     "name": "stdout",
     "output_type": "stream",
     "text": [
      "(6400, 16384)\n"
     ]
    }
   ],
   "source": [
    "# Create an empty array to store the image arrays and class\n",
    "X = []\n",
    "Y = []\n",
    "\n",
    "# Define the folder paths containing the images\n",
    "folder_paths = ['Dataset/Non_Demented/', 'Dataset/Very_Mild_Demented/', 'Dataset/Mild_Demented/', 'Dataset/Moderate_Demented/']\n",
    "classes = [r'Non demented', r'Very mildly demented', r'mild demented', r'moderate demented']\n",
    "\n",
    "# Loop over the images to save them in the list\n",
    "for path in folder_paths:\n",
    "    c = folder_paths.index(path)\n",
    "    items = os.listdir(path)\n",
    "    for picture in items:\n",
    "        file_path = os.path.join(path, picture)\n",
    "        # Open the image and convert it to a NumPy array\n",
    "        img = Image.open(file_path)\n",
    "        array_representation = np.asarray(img)\n",
    "\n",
    "        # Append the NumPy array to the list\n",
    "        X.append(array_representation)\n",
    "        Y.append(c)\n",
    "\n",
    "# Convert the list of image arrays to a NumPy arrayF\n",
    "X = np.array(X)\n",
    "\n",
    "from sklearn.preprocessing import Normalizer\n",
    "\n",
    "# Transpose to make each image a row\n",
    "X = X.reshape(X.shape[0], -1)\n",
    "\n",
    "# Normalize each row (i.e., each flattened image)\n",
    "X = Normalizer().fit_transform(X)\n",
    "X = X.reshape(len(X), 128**2)\n",
    "\n",
    "# Dynamically calculate the number of classes in dataset\n",
    "num_classes = len(np.unique(Y))\n",
    "\n",
    "# Shape of the array\n",
    "print(np.shape(X))"
   ]
  },
  {
   "cell_type": "code",
   "execution_count": 9,
   "metadata": {},
   "outputs": [
    {
     "name": "stdout",
     "output_type": "stream",
     "text": [
      "Elements of 0 in X_train: 1800\n",
      "Elements of 1 in X_train: 1260\n",
      "Elements of 2 in X_train: 504\n",
      "Elements of 3 in X_train: 36\n",
      "\n",
      "Elements of 0 in X_test: 800\n",
      "Elements of 1 in X_test: 560\n",
      "Elements of 2 in X_test: 224\n",
      "Elements of 3 in X_test: 16\n",
      "\n",
      "Elements of 0 in X_val: 600\n",
      "Elements of 1 in X_val: 420\n",
      "Elements of 2 in X_val: 168\n",
      "Elements of 3 in X_val: 12\n"
     ]
    }
   ],
   "source": [
    "X_train, X_test, Y_train, Y_test = train_test_split(X, Y, test_size = 1 - train_size, stratify=Y, random_state=42)\n",
    "X_train, X_val, Y_train, Y_val = train_test_split(X_train, Y_train, test_size = 1 - train_size, stratify=Y_train, random_state=42)\n",
    "\n",
    "for i in np.unique(Y_train):\n",
    "    print(f\"Elements of {i} in X_train: {np.count_nonzero(Y_train == i)}\")\n",
    "print()\n",
    "for i in np.unique(Y_test):\n",
    "    print(f\"Elements of {i} in X_test: {np.count_nonzero(Y_test == i)}\")\n",
    "print()\n",
    "for i in np.unique(Y_val):\n",
    "    print(f\"Elements of {i} in X_val: {np.count_nonzero(Y_val == i)}\")"
   ]
  },
  {
   "cell_type": "code",
   "execution_count": 12,
   "metadata": {},
   "outputs": [],
   "source": [
    "from torch.utils.data import DataLoader, Dataset\n",
    "# from torchvision import transforms\n",
    "from torchvision.transforms import v2\n",
    "\n",
    "# Assuming you have a class named MyDataset for your dataset\n",
    "class MyDataset(Dataset):\n",
    "    def __init__(self, X, Y, transform=None):\n",
    "        self.X = X\n",
    "        self.Y = Y\n",
    "        self.transform = transform\n",
    "\n",
    "    def __len__(self):\n",
    "        return len(self.X)\n",
    "\n",
    "    def __getitem__(self, idx):\n",
    "        data_point = self.X[idx]\n",
    "        label = self.Y[idx]\n",
    "\n",
    "        if self.transform:\n",
    "            data_point = self.transform(data_point)\n",
    "        \n",
    "        data_point = torch.tensor(data_point, dtype=torch.float32)\n",
    "\n",
    "        return data_point, label\n",
    "\n",
    "# # Define transformations, you can adjust these based on your needs\n",
    "# transformation = transforms.Compose([\n",
    "#     transforms.ToTensor(),  # Converts to PyTorch tensor\n",
    "# ])\n",
    "\n",
    "transformation = v2.Compose([\n",
    "    v2.ToDtype(torch.float32, scale=True),\n",
    "])\n",
    "\n",
    "# Create an instance of your dataset\n",
    "dataset_train = MyDataset(X=X_train, Y=Y_train, transform=transformation)\n",
    "dataset_val = MyDataset(X=X_val, Y=Y_val, transform=transformation)\n",
    "dataset_test = MyDataset(X=X_test, Y=Y_test, transform=transformation)\n",
    "\n",
    "# Define DataLoader for training, validation and test sets\n",
    "train_loader = DataLoader(dataset_train, batch_size=batch_size, shuffle=True)\n",
    "validation_loader = DataLoader(dataset_val, batch_size=batch_size, shuffle=False)\n",
    "test_loader = DataLoader(dataset_test, batch_size=batch_size, shuffle=False)"
   ]
  },
  {
   "cell_type": "markdown",
   "metadata": {},
   "source": [
    "# Dynamic DNN creation"
   ]
  },
  {
   "cell_type": "code",
   "execution_count": 7,
   "metadata": {},
   "outputs": [],
   "source": [
    "from torch.autograd import Variable\n",
    "\n",
    "class FocalLoss(nn.Module):\n",
    "    def __init__(self, gamma=0, alpha=None, size_average=True):\n",
    "        super(FocalLoss, self).__init__()\n",
    "        self.gamma = gamma\n",
    "        self.alpha = alpha\n",
    "        if isinstance(alpha,(float,int)): self.alpha = torch.Tensor([alpha,1-alpha])\n",
    "        if isinstance(alpha,list): self.alpha = torch.Tensor(alpha)\n",
    "        self.size_average = size_average\n",
    "\n",
    "    def forward(self, input, target):\n",
    "        if input.dim()>2:\n",
    "            input = input.view(input.size(0),input.size(1),-1)  # N,C,H,W => N,C,H*W\n",
    "            input = input.transpose(1,2)                        # N,C,H*W => N,H*W,C\n",
    "            input = input.contiguous().view(-1,input.size(2))   # N,H*W,C => N*H*W,C\n",
    "        target = target.view(-1,1)\n",
    "\n",
    "        logpt = F.log_softmax(input, dim=1)\n",
    "        logpt = logpt.gather(1,target)\n",
    "        logpt = logpt.view(-1)\n",
    "        pt = Variable(logpt.data.exp())\n",
    "\n",
    "        if self.alpha is not None:\n",
    "            if self.alpha.type()!=input.data.type():\n",
    "                self.alpha = self.alpha.type_as(input.data)\n",
    "            at = self.alpha.gather(0,target.data.view(-1))\n",
    "            logpt = logpt * Variable(at)\n",
    "\n",
    "        loss = -1 * (1-pt)**self.gamma * logpt\n",
    "        if self.size_average: return loss.mean()\n",
    "        else: return loss.sum()"
   ]
  },
  {
   "cell_type": "code",
   "execution_count": 8,
   "metadata": {},
   "outputs": [
    {
     "name": "stdout",
     "output_type": "stream",
     "text": [
      "Size last layer before output: 32\n",
      "Device used for training: cpu\n",
      "Epoch [1/30], Step [112/225], Loss: 0.9398\n",
      "Epoch [1/30], Step [224/225], Loss: 0.9565\n",
      "Epoch [2/30], Step [112/225], Loss: 0.9928\n",
      "Epoch [2/30], Step [224/225], Loss: 0.8273\n",
      "Epoch [3/30], Step [112/225], Loss: 1.0916\n",
      "Epoch [3/30], Step [224/225], Loss: 0.6450\n",
      "Epoch [4/30], Step [112/225], Loss: 0.8264\n",
      "Epoch [4/30], Step [224/225], Loss: 1.2867\n",
      "Epoch [5/30], Step [112/225], Loss: 1.2150\n",
      "Epoch [5/30], Step [224/225], Loss: 0.9928\n",
      "Epoch [6/30], Step [112/225], Loss: 0.7143\n",
      "Epoch [6/30], Step [224/225], Loss: 1.4548\n",
      "Epoch [7/30], Step [112/225], Loss: 0.9412\n",
      "Epoch [7/30], Step [224/225], Loss: 0.5956\n",
      "Epoch [8/30], Step [112/225], Loss: 0.7305\n",
      "Epoch [8/30], Step [224/225], Loss: 0.6930\n",
      "Epoch [9/30], Step [112/225], Loss: 0.8941\n",
      "Epoch [9/30], Step [224/225], Loss: 0.9244\n",
      "Epoch [10/30], Step [112/225], Loss: 1.1370\n",
      "Epoch [10/30], Step [224/225], Loss: 0.8926\n",
      "Epoch [11/30], Step [112/225], Loss: 0.8944\n",
      "Epoch [11/30], Step [224/225], Loss: 0.7262\n",
      "Epoch [12/30], Step [112/225], Loss: 1.1659\n",
      "Epoch [12/30], Step [224/225], Loss: 0.6778\n",
      "Epoch [13/30], Step [112/225], Loss: 0.8485\n",
      "Epoch [13/30], Step [224/225], Loss: 1.1842\n",
      "Epoch [14/30], Step [112/225], Loss: 0.8671\n",
      "Epoch [14/30], Step [224/225], Loss: 0.4353\n",
      "Epoch [15/30], Step [112/225], Loss: 0.8874\n",
      "Epoch [15/30], Step [224/225], Loss: 0.5439\n",
      "Epoch [16/30], Step [112/225], Loss: 0.4305\n",
      "Epoch [16/30], Step [224/225], Loss: 0.6418\n",
      "Epoch [17/30], Step [112/225], Loss: 0.5937\n",
      "Epoch [17/30], Step [224/225], Loss: 0.9069\n",
      "Epoch [18/30], Step [112/225], Loss: 0.5406\n",
      "Epoch [18/30], Step [224/225], Loss: 0.5610\n",
      "Epoch [19/30], Step [112/225], Loss: 0.7180\n",
      "Epoch [19/30], Step [224/225], Loss: 0.9198\n",
      "Epoch [20/30], Step [112/225], Loss: 0.6535\n",
      "Epoch [20/30], Step [224/225], Loss: 0.7911\n",
      "Epoch [21/30], Step [112/225], Loss: 0.8725\n",
      "Epoch [21/30], Step [224/225], Loss: 0.7300\n",
      "Epoch [22/30], Step [112/225], Loss: 0.7181\n",
      "Epoch [22/30], Step [224/225], Loss: 0.5671\n",
      "Epoch [23/30], Step [112/225], Loss: 0.6697\n",
      "Epoch [23/30], Step [224/225], Loss: 0.5254\n",
      "Epoch [24/30], Step [112/225], Loss: 0.5454\n",
      "Epoch [24/30], Step [224/225], Loss: 0.4258\n",
      "Epoch [25/30], Step [112/225], Loss: 0.3545\n",
      "Epoch [25/30], Step [224/225], Loss: 0.3145\n",
      "Epoch [26/30], Step [112/225], Loss: 0.6091\n",
      "Epoch [26/30], Step [224/225], Loss: 0.4996\n",
      "Epoch [27/30], Step [112/225], Loss: 0.5044\n",
      "Epoch [27/30], Step [224/225], Loss: 0.6329\n",
      "Epoch [28/30], Step [112/225], Loss: 0.3583\n",
      "Epoch [28/30], Step [224/225], Loss: 0.5359\n",
      "Epoch [29/30], Step [112/225], Loss: 0.3841\n",
      "Epoch [29/30], Step [224/225], Loss: 0.4144\n",
      "Epoch [30/30], Step [112/225], Loss: 0.3683\n",
      "Epoch [30/30], Step [224/225], Loss: 0.4303\n"
     ]
    }
   ],
   "source": [
    "def init_weights(m):\n",
    "    if isinstance(m, nn.Linear):\n",
    "        init.kaiming_uniform_(m.weight, mode='fan_in', nonlinearity='leaky_relu')\n",
    "        init.zeros_(m.bias)\n",
    "\n",
    "# Hyperparameters\n",
    "epochs = 30\n",
    "dropout_rate = 0.2\n",
    "\n",
    "dynamic_model = Custom_DNN(input_size=128**2, initial_nodes=1024, output_size=4, n_layers=7, operation_and_factor= ('/', 2), dropout_rate=dropout_rate)\n",
    "dynamic_model.apply(init_weights)\n",
    "\n",
    "early_stopper = EarlyStopper(dynamic_model, patience=3, min_delta=0.2)\n",
    "optimizer = torch.optim.Adam(dynamic_model.parameters(), lr=0.001)\n",
    "scheduler = lr_scheduler.StepLR(optimizer, step_size=5, gamma=0.5)\n",
    "# criterion = nn.CrossEntropyLoss()\n",
    "criterion = FocalLoss()\n",
    "\n",
    "loss_training_hist, loss_val_hist, training_acc_hist, val_acc_hist = functions.train_network(dynamic_model, train_loader, criterion, optimizer, epochs, scheduler, validation_loader, device, early_stopper)"
   ]
  },
  {
   "cell_type": "code",
   "execution_count": 9,
   "metadata": {},
   "outputs": [
    {
     "data": {
      "image/png": "[encoded data removed]",
      "text/plain": [
       "<Figure size 800x600 with 2 Axes>"
      ]
     },
     "metadata": {},
     "output_type": "display_data"
    }
   ],
   "source": [
    "x_epochs = np.linspace(1, len(loss_training_hist), len(loss_training_hist))\n",
    "fig, ax = plt.subplots(1, 2, figsize=(8,6))\n",
    "ax[0].plot(x_epochs, loss_training_hist, label = 'Training loss')\n",
    "ax[0].plot(x_epochs, loss_val_hist, label = 'Validation loss')\n",
    "ax[0].set(\n",
    "    xlabel='Epoch',\n",
    "    title='Training loss'\n",
    ")\n",
    "\n",
    "ax[1].plot(x_epochs, training_acc_hist, label='Training Accuracy')\n",
    "ax[1].plot(x_epochs, val_acc_hist, label='Validation Accuracy')\n",
    "ax[1].set(\n",
    "    xlabel='Epoch',\n",
    "    title = 'Accuracy',\n",
    ")\n",
    "\n",
    "fig.suptitle('History for the network')\n",
    "ax[0].legend(loc='best')\n",
    "ax[1].legend(loc='best')\n",
    "plt.tight_layout()\n",
    "plt.show()"
   ]
  },
  {
   "cell_type": "code",
   "execution_count": 11,
   "metadata": {},
   "outputs": [
    {
     "name": "stdout",
     "output_type": "stream",
     "text": [
      "              precision    recall  f1-score   support\n",
      "\n",
      "           0       0.81      0.86      0.84       800\n",
      "           1       0.67      0.66      0.66       560\n",
      "           2       0.69      0.64      0.67       224\n",
      "           3       0.00      0.00      0.00        16\n",
      "\n",
      "    accuracy                           0.75      1600\n",
      "   macro avg       0.54      0.54      0.54      1600\n",
      "weighted avg       0.74      0.75      0.74      1600\n",
      "\n"
     ]
    },
    {
     "name": "stderr",
     "output_type": "stream",
     "text": [
      "/home/toby_linux/.local/conda/envs/ewha_ml/lib/python3.8/site-packages/sklearn/metrics/_classification.py:1469: UndefinedMetricWarning: Precision and F-score are ill-defined and being set to 0.0 in labels with no predicted samples. Use `zero_division` parameter to control this behavior.\n",
      "  _warn_prf(average, modifier, msg_start, len(result))\n",
      "/home/toby_linux/.local/conda/envs/ewha_ml/lib/python3.8/site-packages/sklearn/metrics/_classification.py:1469: UndefinedMetricWarning: Precision and F-score are ill-defined and being set to 0.0 in labels with no predicted samples. Use `zero_division` parameter to control this behavior.\n",
      "  _warn_prf(average, modifier, msg_start, len(result))\n",
      "/home/toby_linux/.local/conda/envs/ewha_ml/lib/python3.8/site-packages/sklearn/metrics/_classification.py:1469: UndefinedMetricWarning: Precision and F-score are ill-defined and being set to 0.0 in labels with no predicted samples. Use `zero_division` parameter to control this behavior.\n",
      "  _warn_prf(average, modifier, msg_start, len(result))\n"
     ]
    }
   ],
   "source": [
    "from sklearn.metrics import classification_report\n",
    "dynamic_model.eval()\n",
    "y_true = []\n",
    "y_cls = []\n",
    "with torch.no_grad():  # Disable gradient computation during validation\n",
    "    for i, (x_minibatch, y_true_batch) in enumerate(test_loader):\n",
    "        y_pred = dynamic_model(x_minibatch)\n",
    "        y_cls_batch = torch.argmax(F.softmax(y_pred, dim=1), dim=1)\n",
    "        y_true.append(y_true_batch.tolist())\n",
    "        y_cls.append(y_cls_batch.tolist())\n",
    "y_true = np.reshape(y_true, -1)\n",
    "y_cls = np.reshape(y_cls, -1)\n",
    "print(classification_report(Y_test, y_cls))"
   ]
  },
  {
   "cell_type": "markdown",
   "metadata": {},
   "source": [
    "# Hyperparameter search"
   ]
  },
  {
   "cell_type": "code",
   "execution_count": 20,
   "metadata": {},
   "outputs": [
    {
     "name": "stdout",
     "output_type": "stream",
     "text": [
      "Size last layer before output: 512\n",
      "Device used for training: cpu\n",
      "Epoch [1/1], Step [2/4], Loss: 1.3306\n",
      "Epoch [1/1], Step [4/4], Loss: 1.2044\n",
      "Size last layer before output: 56\n",
      "Device used for training: cpu\n",
      "Epoch [1/1], Step [2/4], Loss: 1.3237\n",
      "Epoch [1/1], Step [4/4], Loss: 1.2993\n",
      "Size last layer before output: 2048\n",
      "Device used for training: cpu\n",
      "Epoch [1/1], Step [2/4], Loss: 1.1986\n",
      "Epoch [1/1], Step [4/4], Loss: 1.8618\n",
      "Size last layer before output: 227\n",
      "Device used for training: cpu\n",
      "Epoch [1/1], Step [2/4], Loss: 1.2974\n",
      "Epoch [1/1], Step [4/4], Loss: 1.1290\n",
      "Size last layer before output: 8\n",
      "Device used for training: cpu\n",
      "Epoch [1/1], Step [2/4], Loss: 1.2976\n",
      "Epoch [1/1], Step [4/4], Loss: 1.3259\n"
     ]
    },
    {
     "name": "stderr",
     "output_type": "stream",
     "text": [
      "/home/toby_linux/.local/conda/envs/ewha_ml/lib/python3.8/site-packages/torch/nn/init.py:412: UserWarning: Initializing zero-element tensors is a no-op\n",
      "  warnings.warn(\"Initializing zero-element tensors is a no-op\")\n"
     ]
    },
    {
     "name": "stdout",
     "output_type": "stream",
     "text": [
      "Size last layer before output: 0\n",
      "Device used for training: cpu\n",
      "Epoch [1/1], Step [2/4], Loss: 1.3855\n",
      "Epoch [1/1], Step [4/4], Loss: 1.3845\n",
      "Size last layer before output: 32\n",
      "Device used for training: cpu\n",
      "Epoch [1/1], Step [2/4], Loss: 1.4592\n",
      "Epoch [1/1], Step [4/4], Loss: 1.3645\n"
     ]
    },
    {
     "name": "stderr",
     "output_type": "stream",
     "text": [
      "/home/toby_linux/.local/conda/envs/ewha_ml/lib/python3.8/site-packages/torch/nn/init.py:412: UserWarning: Initializing zero-element tensors is a no-op\n",
      "  warnings.warn(\"Initializing zero-element tensors is a no-op\")\n"
     ]
    },
    {
     "name": "stdout",
     "output_type": "stream",
     "text": [
      "Size last layer before output: 0\n",
      "Device used for training: cpu\n",
      "Epoch [1/1], Step [2/4], Loss: 1.3859\n",
      "Epoch [1/1], Step [4/4], Loss: 1.3839\n"
     ]
    }
   ],
   "source": [
    "from itertools import product\n",
    "params_to_test = ({\n",
    "    'num_dense_layers' : [4, 10],\n",
    "    'num_dense_nodes' : [2048, 8192],\n",
    "    'factor' : [2, 6]\n",
    "})\n",
    "\n",
    "def init_weights(m):\n",
    "    if isinstance(m, nn.Linear):\n",
    "        init.kaiming_uniform_(m.weight, mode='fan_in', nonlinearity='leaky_relu')\n",
    "        init.zeros_(m.bias)\n",
    "\n",
    "# Hyperparameters\n",
    "epochs = 1\n",
    "dropout_rate = 0.2\n",
    "        \n",
    "# Generate all combinations of hyperparameters\n",
    "hyperparameter_combinations = list(product(*params_to_test.values()))\n",
    "criterion = nn.CrossEntropyLoss()\n",
    "\n",
    "# Define lists to store the histories and the corresponding parameters in\n",
    "hist_loss_params = {}\n",
    "\n",
    "# Print the generated combinations\n",
    "for i, combination in enumerate(hyperparameter_combinations):\n",
    "    # Get parameters\n",
    "    params = dict(zip(params_to_test.keys(), combination))\n",
    "    # Define model\n",
    "    test_model = Custom_DNN(128**2, params['num_dense_nodes'], num_classes, params['num_dense_layers'], ('/', params['factor']), dropout_rate=0.2)\n",
    "    # Setup\n",
    "    early_stopper = EarlyStopper(test_model, patience=3, min_delta=0.2)\n",
    "    optimizer = torch.optim.Adam(test_model.parameters(), lr=0.001)\n",
    "    scheduler = lr_scheduler.StepLR(optimizer, step_size=5, gamma=0.5)\n",
    "    # Training\n",
    "    loss_training_hist, loss_val_hist, training_acc_hist, val_acc_hist = functions.train_network(test_model, train_loader, criterion, optimizer, epochs, scheduler, validation_loader, device, early_stopper)\n",
    "\n",
    "    # Store the hists etc\n",
    "    hist_loss_params[tuple(params.items())] = (loss_training_hist, loss_val_hist, training_acc_hist, val_acc_hist)\n"
   ]
  }
 ],
 "metadata": {
  "kernelspec": {
   "display_name": "ewha_ml",
   "language": "python",
   "name": "python3"
  },
  "language_info": {
   "codemirror_mode": {
    "name": "ipython",
    "version": 3
   },
   "file_extension": ".py",
   "mimetype": "text/x-python",
   "name": "python",
   "nbconvert_exporter": "python",
   "pygments_lexer": "ipython3",
   "version": "3.8.18"
  }
 },
 "nbformat": 4,
 "nbformat_minor": 2
}
